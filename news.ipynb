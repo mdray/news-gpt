{
 "cells": [
  {
   "attachments": {},
   "cell_type": "markdown",
   "metadata": {},
   "source": [
    "# News Rollup bot\n",
    "\n",
    "Resources https://newsapi.org/docs/client-libraries/python and https://platform.openai.com/docs/api-reference/chat/create\n",
    "\n",
    "First get an api key and create a .env file using example.env - NewsAPI, OpenAI"
   ]
  },
  {
   "cell_type": "code",
   "execution_count": 60,
   "metadata": {},
   "outputs": [],
   "source": [
    "# Load environment variables\n",
    "# pip3 install dotenv\n",
    "\n",
    "import os\n",
    "from dotenv import load_dotenv\n",
    "\n",
    "load_dotenv()\n",
    "\n",
    "API = os.getenv('API')\n",
    "GPT = os.getenv('NEWS_GPT')"
   ]
  },
  {
   "cell_type": "code",
   "execution_count": 63,
   "metadata": {},
   "outputs": [
    {
     "name": "stdout",
     "output_type": "stream",
     "text": [
      "{'status': 'ok', 'totalResults': 17, 'articles': [{'source': {'id': None, 'name': 'Forbes'}, 'author': 'David Prosser, Contributor, \\n David Prosser, Contributor\\n https://www.forbes.com/sites/davidprosser/', 'title': 'Unlocking Lending With Credora’s Privacy Preserving Credit Scoring', 'description': 'Credora has raised $6 million of new finance as demand for private credit continues to grow', 'url': 'https://www.forbes.com/sites/davidprosser/2023/04/25/unlocking-lending-with-credoras-privacy-preserving-credit-scoring/', 'urlToImage': 'https://imageio.forbes.com/specials-images/imageserve/644786ca26b1a43633f33129/0x0.jpg?format=jpg&crop=675,380,x0,y86,safe&width=1200', 'publishedAt': '2023-04-25T11:00:40Z', 'content': 'Darshan Vaidya, CEO of Credora\\r\\ncredora\\r\\nHow do would-be borrowers share sensitive data with potential lenders so they can secure the credit they need for business growth? US based Credora, which is … [+4609 chars]'}, {'source': {'id': None, 'name': 'Forbes'}, 'author': 'Expert Panel®, Forbes Councils Member, \\n Expert Panel®, Forbes Councils Member\\n https://www.forbes.com/sites/forbesbusinesscouncil/people/expertpanel/', 'title': 'How Leaders Can Cut Supply Chain Costs And Improve Performance', 'description': 'Leaders that recognize the importance of data in decision making minimize risk and increases the likelihood of business success.', 'url': 'https://www.forbes.com/sites/forbesbusinesscouncil/2023/04/25/how-leaders-can-cut-supply-chain-costs-and-improve-performance/', 'urlToImage': 'https://imageio.forbes.com/specials-images/imageserve/644036a0ff89147224eb47a2/0x0.jpg?format=jpg&width=1200', 'publishedAt': '2023-04-25T12:15:00Z', 'content': 'getty\\r\\nEfficient supply chain management is a crucial element of business success, impacting everything from customer satisfaction to profitability. With the global supply chain becoming increasingly… [+7367 chars]'}, {'source': {'id': None, 'name': 'Forbes'}, 'author': 'Committee of 200, Contributor, \\n Committee of 200, Contributor\\n https://www.forbes.com/sites/committeeof200/', 'title': 'Can AI Help To Alleviate Supply Chain Pains?', 'description': 'Retailers are dealing with overwhelming amounts of unusable overstock. AI-powered tools provide data insight to enable retailers to maintain an optimal balance of inventory, analyze consumer trends, and make real-time decisions.', 'url': 'https://www.forbes.com/sites/committeeof200/2023/04/25/can-ai-help-to-alleviate-supply-chain-pains/', 'urlToImage': 'https://imageio.forbes.com/specials-images/imageserve/6448154023c83fda0df33129/0x0.jpg?format=jpg&width=1200', 'publishedAt': '2023-04-25T18:05:17Z', 'content': 'By Inna Kuznetsova\\r\\nC200 member Inna Kuznetsova is the CEO of ToolsGroup, whose AI-powered solutions enable companies to navigate supply chain uncertainty. Inna previously served as CEO of 1010data a… [+5916 chars]'}]}\n"
     ]
    }
   ],
   "source": [
    "import requests\n",
    "import json\n",
    "\n",
    "#set variables\n",
    "q = 'data analytics'\n",
    "domains = 'forbes.com, venturebeat.com' # comma seperated\n",
    "date_from = '2023-04-25'\n",
    "date_to = '2023-04-25'\n",
    "language = 'en'\n",
    "sortBy = 'relevancy' # relevancy, popularity, publishedAT\n",
    "pageSize = 3 # set max number of articles you'd like to summarize\n",
    "page = 1\n",
    "\n",
    "#make request\n",
    "api_url = f\"https://newsapi.org/v2/everything?q={q}&apiKey={API}&domains={domains}&from={date_from}&to={date_to}&language={language}&sortBy={sortBy}&pageSize={pageSize}&page={page}\"\n",
    "response = requests.get(api_url)\n",
    "data = response.json()\n",
    "print(data)\n",
    "\n",
    "#write to tmp file\n",
    "with open('tmp_data.json', 'w', encoding='utf-8') as f:\n",
    "    json.dump(data, f, ensure_ascii=False, indent=4)"
   ]
  },
  {
   "cell_type": "code",
   "execution_count": 64,
   "metadata": {},
   "outputs": [],
   "source": [
    "# testing json load\n",
    "# with open('tmp_data.json') as data_tmp_file:\n",
    "#     data_string = data_tmp_file.read()\n",
    "# data = json.loads(data_string)\n",
    "\n",
    "# print(data)"
   ]
  },
  {
   "cell_type": "code",
   "execution_count": 67,
   "metadata": {},
   "outputs": [],
   "source": [
    "# parse response for URLs\n",
    "# pip3 install openai\n",
    "\n",
    "import os\n",
    "import openai\n",
    "import json\n",
    "\n",
    "# read and parse json from tmp\n",
    "with open('tmp_data.json') as data_tmp_file:\n",
    "    data_string = data_tmp_file.read()\n",
    "data = json.loads(data_string)\n",
    "    \n",
    "openai.api_key = GPT\n",
    "\n",
    "for i in data['articles']:\n",
    "    article = i['url']\n",
    "    content = f\"Provide a summary of this article in 3 bullet points (format 1, 2, 3). Condense the response and remove fillers like 'the article' and 'the author':{article}\"\n",
    "    completion = openai.ChatCompletion.create(model=\"gpt-3.5-turbo\", messages=[{\"role\": \"user\", \"content\": content}])\n",
    "\n",
    "    # append summary(completion) to data\n",
    "    summary = completion.choices[0].message.content\n",
    "    i['summary'] = summary \n",
    "\n",
    "    # print(completion.choices[0].message.content)\n",
    "\n",
    "# write summarized output to file\n",
    "with open('tmp_summarized_data.json', 'w', encoding='utf-8') as f:\n",
    "    json.dump(data, f, ensure_ascii=False, indent=4)\n"
   ]
  },
  {
   "cell_type": "code",
   "execution_count": 59,
   "metadata": {},
   "outputs": [
    {
     "name": "stdout",
     "output_type": "stream",
     "text": [
      "{'source': {'id': None, 'name': 'Forbes'}, 'author': 'Bernd Greifeneder, Forbes Councils Member, \\n Bernd Greifeneder, Forbes Councils Member\\n https://www.forbes.com/sites/forbestechcouncil/people/berndgreifeneder/', 'title': 'Getting Tool Sprawl Under Control To Enable Data-Driven Business And Cloud-Scale Growth', 'description': 'Supported by a data lakehouse, organizations could unlock the value of the petabytes—and, eventually, yottabytes—of data they have available to access more precise real-time answers to the questions that matter. This can help them not just survive but thrive …', 'url': 'https://www.forbes.com/sites/forbestechcouncil/2023/04/24/getting-tool-sprawl-under-control-to-enable-data-driven-business-and-cloud-scale-growth/', 'urlToImage': 'https://imageio.forbes.com/specials-images/imageserve/6399d93eaccb6518c9a6c001/0x0.jpg?format=jpg&width=1200', 'publishedAt': '2023-04-24T11:00:00Z', 'content': 'Bernd Greifeneder is the CTO and founder of Dynatrace, a software intelligence company that helps simplify enterprise cloud complexity.\\r\\ngetty\\r\\nBusiness leaders are being reminded once again that agi… [+6474 chars]', 'summary': '1. Enterprises are experiencing tool sprawl, leading to issues in data-driven decision making and cloud scalability. \\n2. The solution is to consolidate tools and invest in platforms that can address multiple needs, such as data governance and analytics. \\n3. Implementing a strong governance framework can also ensure that tools are being used effectively and efficiently.'}\n"
     ]
    }
   ],
   "source": [
    "# Testing for modifying and writing out json\n",
    "\n",
    "# print(data['articles'][0])\n",
    "# print(completion.choices[0].message.content)\n",
    "\n",
    "# summary = completion.choices[0].message.content\n",
    "# data['articles'][0]['summary'] = summary\n",
    "\n",
    "# print(data['articles'][0])\n",
    "\n",
    "# with open('tmp_summarized_data.json', 'w', encoding='utf-8') as f:\n",
    "#     json.dump(data, f, ensure_ascii=False, indent=4)\n"
   ]
  }
 ],
 "metadata": {
  "kernelspec": {
   "display_name": "Python 3",
   "language": "python",
   "name": "python3"
  },
  "language_info": {
   "codemirror_mode": {
    "name": "ipython",
    "version": 3
   },
   "file_extension": ".py",
   "mimetype": "text/x-python",
   "name": "python",
   "nbconvert_exporter": "python",
   "pygments_lexer": "ipython3",
   "version": "3.9.6"
  },
  "orig_nbformat": 4
 },
 "nbformat": 4,
 "nbformat_minor": 2
}
