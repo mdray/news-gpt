{
 "cells": [
  {
   "attachments": {},
   "cell_type": "markdown",
   "metadata": {},
   "source": [
    "# News Rollup bot\n",
    "\n",
    "Source https://newsapi.org/docs/client-libraries/python\n",
    "pip3 install newsapi-python\n",
    "pip3 install dotenv\n",
    "\n",
    "First get an api key and create a .env file: \n",
    "    API='your_key'"
   ]
  },
  {
   "cell_type": "code",
   "execution_count": 15,
   "metadata": {},
   "outputs": [],
   "source": [
    "import os\n",
    "from dotenv import load_dotenv\n",
    "\n",
    "load_dotenv()\n",
    "\n",
    "API = os.getenv('API')\n",
    "GPT = os.getenv('NEWS_GPT')"
   ]
  },
  {
   "cell_type": "code",
   "execution_count": 10,
   "metadata": {},
   "outputs": [
    {
     "data": {
      "text/plain": [
       "{'status': 'ok',\n",
       " 'totalResults': 2,\n",
       " 'articles': [{'source': {'id': None, 'name': 'VentureBeat'},\n",
       "   'author': 'Bruno Aziza',\n",
       "   'title': 'This week in data: The truth about AI',\n",
       "   'description': \"In this week's video, Bruno and a special guest examine Gartner's latest Spaghetti Chart, discuss the real truth about AI, and more.\",\n",
       "   'url': 'https://venturebeat.com/data-infrastructure/this-week-in-data-the-truth-about-ai/',\n",
       "   'urlToImage': 'https://venturebeat.com/wp-content/uploads/2023/04/Apr-24.jpg?w=1200&strip=all',\n",
       "   'publishedAt': '2023-04-24T17:07:00Z',\n",
       "   'content': 'Join top executives in San Francisco on July 11-12, to hear how leaders are integrating and optimizing AI investments for success. Learn More\\r\\nThis week, Bruno invites a special guest to discuss the … [+1366 chars]'},\n",
       "  {'source': {'id': None, 'name': 'VentureBeat'},\n",
       "   'author': 'Jack Vaughan',\n",
       "   'title': 'VentureBeat Q&A: Hailo CEO Orr Danon says edge AI means ‘stream the insights,’ not the video',\n",
       "   'description': \"Hailo's dedicated deep learning edge AI processor is power-efficient, specifically designed for neural networks; vision is a major use case.\",\n",
       "   'url': 'https://venturebeat.com/ai/venturebeat-qa-hailo-ceo-orr-danon-edge-ai-stream-insights-not-video/',\n",
       "   'urlToImage': 'https://venturebeat.com/wp-content/uploads/2023/04/Hailo_15H_01-1.jpg?w=1200&strip=all',\n",
       "   'publishedAt': '2023-04-24T19:07:00Z',\n",
       "   'content': 'Join top executives in San Francisco on July 11-12, to hear how leaders are integrating and optimizing AI investments for success. Learn More\\r\\nDevelopments in AI chip technology are coming rapidly of… [+1272 chars]'}]}"
      ]
     },
     "execution_count": 10,
     "metadata": {},
     "output_type": "execute_result"
    }
   ],
   "source": [
    "import requests\n",
    "\n",
    "#set variables\n",
    "q = 'data analytics'\n",
    "domains = 'venturebeat.com' # comma seperated\n",
    "date_from = '2023-04-24'\n",
    "date_to = '2023-04-24'\n",
    "language = 'en'\n",
    "sortBy = 'relevancy' # relevancy, popularity, publishedAT\n",
    "pageSize = 10\n",
    "page = 1\n",
    "\n",
    "#make request\n",
    "api_url = f\"https://newsapi.org/v2/everything?q={q}&apiKey={API}&domains={domains}&from={date_from}&to={date_to}&language={language}&sortBy={sortBy}&pageSize={pageSize}&page={page}\"\n",
    "response = requests.get(api_url)\n",
    "response.json()"
   ]
  },
  {
   "cell_type": "code",
   "execution_count": 17,
   "metadata": {},
   "outputs": [
    {
     "name": "stdout",
     "output_type": "stream",
     "text": [
      "1. There is a growing concern that biased data sets are leading to biased AI outputs.\n",
      "2. Companies need to be more transparent about their use of AI and the data they use to train their models.\n",
      "3. The development of ethical guidelines and regulations for AI is becoming increasingly important.\n",
      "1. Hailo CEO Orr Danon discusses how their Edge AI technology can help capture and process data in real-time for various industries.\n",
      "\n",
      "2. The technology focuses on capturing insights from sensors instead of video to reduce latency and improve efficiency.\n",
      "\n",
      "3. Hailo is currently working with partners in the automotive, retail, and security industries to implement their technology.\n"
     ]
    }
   ],
   "source": [
    "# parse response for URLs\n",
    "# pip3 install openai\n",
    "\n",
    "import os\n",
    "import openai\n",
    "\n",
    "data = response.json()\n",
    "openai.api_key = GPT\n",
    "\n",
    "for i in data['articles']:\n",
    "    article = i['url']\n",
    "    string = f\"Provide a summary of this article in 3 bullet points (format 1, 2, 3). Condense the response and remove fillers like 'the article' and 'the author':{article}\"\n",
    "    completion = openai.ChatCompletion.create(model=\"gpt-3.5-turbo\", messages=[{\"role\": \"user\", \"content\": string}])\n",
    "    print(completion.choices[0].message.content)\n"
   ]
  },
  {
   "cell_type": "code",
   "execution_count": 18,
   "metadata": {},
   "outputs": [
    {
     "name": "stdout",
     "output_type": "stream",
     "text": [
      "1. Hailo CEO Orr Danon discusses how their Edge AI technology can help capture and process data in real-time for various industries.\n",
      "\n",
      "2. The technology focuses on capturing insights from sensors instead of video to reduce latency and improve efficiency.\n",
      "\n",
      "3. Hailo is currently working with partners in the automotive, retail, and security industries to implement their technology.\n"
     ]
    }
   ],
   "source": [
    "print(completion.choices[0].message.content)\n"
   ]
  }
 ],
 "metadata": {
  "kernelspec": {
   "display_name": "Python 3",
   "language": "python",
   "name": "python3"
  },
  "language_info": {
   "codemirror_mode": {
    "name": "ipython",
    "version": 3
   },
   "file_extension": ".py",
   "mimetype": "text/x-python",
   "name": "python",
   "nbconvert_exporter": "python",
   "pygments_lexer": "ipython3",
   "version": "3.9.6"
  },
  "orig_nbformat": 4
 },
 "nbformat": 4,
 "nbformat_minor": 2
}
